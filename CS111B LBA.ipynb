{
 "cells": [
  {
   "cell_type": "markdown",
   "metadata": {
    "collapsed": false
   },
   "source": [
    "# CS111B LBA"
   ]
  },
  {
   "cell_type": "code",
   "execution_count": 14,
   "metadata": {
    "collapsed": false
   },
   "outputs": [
   ],
   "source": [
    "# Transition matrix\n",
    "A = Matrix(QQ, [[4/7,1/27,1/8,0,0],\n",
    "                [1/7,14/27,1/8,0,1/16],\n",
    "                [2/7,10/27,1/4,6/7,5/16],\n",
    "                [0,0,1/3,1/7,0],\n",
    "                [0,2/27,1/6,0,5/8]])"
   ]
  },
  {
   "cell_type": "code",
   "execution_count": 54,
   "metadata": {
    "collapsed": false
   },
   "outputs": [
    {
     "name": "stdout",
     "output_type": "stream",
     "text": [
      "1\n",
      "-0.3998363605866977?\n",
      "0.5960048845446642?\n",
      "0.4558178544231332? - 0.03352513203267218?*I\n",
      "0.4558178544231332? + 0.03352513203267218?*I\n"
     ]
    }
   ],
   "source": [
    "# All Eigenvalues\n",
    "for i in A.eigenvectors_right():\n",
    "    print(i[0])"
   ]
  },
  {
   "cell_type": "code",
   "execution_count": 56,
   "metadata": {
    "collapsed": false
   },
   "outputs": [
    {
     "name": "stdout",
     "output_type": "stream",
     "text": [
      "(1, 162/125, 2664/875, 148/125, 1408/875)\n",
      "(1, 0.8518075742432563?, -8.02250688552757?, 4.927586095784637?, 1.243113215499669?)\n",
      "(1, 0.5770610347359799?, 0.02562945759956307?, 0.01885290766621280?, -1.621543400001756?)\n",
      "(1, -0.2837316183048927? + 2.279865918023680?*I, -0.8408171083976121? - 0.9437168838239492?*I, -0.7789386733561681? - 1.088591327559551?*I, 0.903487400058673? - 0.2475577066401794?*I)\n",
      "(1, -0.2837316183048927? - 2.279865918023680?*I, -0.8408171083976121? + 0.9437168838239492?*I, -0.7789386733561681? + 1.088591327559551?*I, 0.903487400058673? + 0.2475577066401794?*I)\n"
     ]
    }
   ],
   "source": [
    "# All Eigenvectors\n",
    "\n",
    "for i in A.eigenvectors_right():\n",
    "    print(i[1][0])"
   ]
  },
  {
   "cell_type": "code",
   "execution_count": 53,
   "metadata": {
    "collapsed": false
   },
   "outputs": [
    {
     "data": {
      "text/plain": [
       "(1.00000000000000, 1.29600000000000, 3.04457142857143, 1.18400000000000, 1.60914285714286)"
      ]
     },
     "execution_count": 53,
     "metadata": {
     },
     "output_type": "execute_result"
    }
   ],
   "source": [
    "# First Eigenvector\n",
    "n(A.eigenvectors_right()[0][1][0])"
   ]
  },
  {
   "cell_type": "code",
   "execution_count": 52,
   "metadata": {
    "collapsed": false
   },
   "outputs": [
    {
     "data": {
      "text/plain": [
       "(0.122945061121259, 0.159336799213152, 0.374315020373753, 0.145566952367571, 0.197836166924266)"
      ]
     },
     "execution_count": 52,
     "metadata": {
     },
     "output_type": "execute_result"
    }
   ],
   "source": [
    "# Normalised Eigenvector\n",
    "n(A.eigenvectors_right()[0][1][0]/sum(A.eigenvectors_right()[0][1][0]))"
   ]
  },
  {
   "cell_type": "markdown",
   "metadata": {
    "collapsed": false
   },
   "source": [
    "### Analysis with populations"
   ]
  },
  {
   "cell_type": "code",
   "execution_count": 31,
   "metadata": {
    "collapsed": false
   },
   "outputs": [
   ],
   "source": [
    "u_0 = vector([200,200,200,200,200])"
   ]
  },
  {
   "cell_type": "code",
   "execution_count": 57,
   "metadata": {
    "collapsed": false
   },
   "outputs": [
    {
     "name": "stdout",
     "output_type": "stream",
     "text": [
      "(146.693121693122, 169.775132275132, 415.145502645503, 95.2380952380952, 173.148148148148)\n",
      "(142.005796660228, 171.702657400409, 344.319824123065, 151.987276392038, 189.984445424260)\n",
      "(130.545505217010, 164.231555775385, 379.891565136912, 136.485742763694, 188.845631107000)\n",
      "(128.166527408594, 163.095758469090, 369.100148432223, 146.128484964260, 193.509080725833)\n",
      "(125.416117863085, 161.109511072952, 375.024456248162, 143.908880662778, 194.541034153023)\n"
     ]
    }
   ],
   "source": [
    "# First five steps for u_0\n",
    "u = u_0\n",
    "for i in range(1,6):\n",
    "    u = A*u\n",
    "    print(n(u))"
   ]
  },
  {
   "cell_type": "code",
   "execution_count": 58,
   "metadata": {
    "collapsed": false
   },
   "outputs": [
    {
     "name": "stdout",
     "output_type": "stream",
     "text": [
      "(123.114051620870, 159.453012333513, 374.288367765730, 145.561937228313, 197.582631051574)\n"
     ]
    }
   ],
   "source": [
    "# 10th step\n",
    "\n",
    "print(n(A^10 *u_0))"
   ]
  },
  {
   "cell_type": "markdown",
   "metadata": {
    "collapsed": false
   },
   "source": [
    "Second population"
   ]
  },
  {
   "cell_type": "code",
   "execution_count": 39,
   "metadata": {
    "collapsed": false
   },
   "outputs": [
   ],
   "source": [
    "u_1 = vector([0,0,0,1000,0])"
   ]
  },
  {
   "cell_type": "code",
   "execution_count": 59,
   "metadata": {
    "collapsed": false
   },
   "outputs": [
    {
     "name": "stdout",
     "output_type": "stream",
     "text": [
      "(123.266444670323, 159.285461829552, 374.393225993460, 145.785505337679, 197.269362168985)\n"
     ]
    }
   ],
   "source": [
    "# 10th Step\n",
    "print(n(A^10 *u_1))"
   ]
  },
  {
   "cell_type": "markdown",
   "metadata": {
    "collapsed": false
   },
   "source": [
    "Third population"
   ]
  },
  {
   "cell_type": "code",
   "execution_count": 41,
   "metadata": {
    "collapsed": false
   },
   "outputs": [
   ],
   "source": [
    "u_2 = vector([187,205,165,192,251])"
   ]
  },
  {
   "cell_type": "code",
   "execution_count": 60,
   "metadata": {
    "collapsed": false
   },
   "outputs": [
    {
     "name": "stdout",
     "output_type": "stream",
     "text": [
      "(122.970901751996, 159.382359484174, 374.277234188337, 145.553901065230, 197.815603510264)\n"
     ]
    }
   ],
   "source": [
    "# 10th Step\n",
    "print(n(A^10 *u_2))"
   ]
  }
 ],
 "metadata": {
  "kernelspec": {
   "display_name": "SageMath (default)",
   "language": "sagemath",
   "metadata": {
    "cocalc": {
     "description": "Open-source mathematical software system",
     "priority": 10,
     "url": "https://www.sagemath.org/"
    }
   },
   "name": "sagemath"
  },
  "language_info": {
   "codemirror_mode": {
    "name": "ipython",
    "version": 2
   },
   "file_extension": ".py",
   "mimetype": "text/x-python",
   "name": "python",
   "nbconvert_exporter": "python",
   "pygments_lexer": "ipython2",
   "version": "2.7.15"
  }
 },
 "nbformat": 4,
 "nbformat_minor": 4
}