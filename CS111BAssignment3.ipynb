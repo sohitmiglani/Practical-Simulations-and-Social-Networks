{
 "cells": [
  {
   "cell_type": "markdown",
   "metadata": {
    "collapsed": false
   },
   "source": [
    "# CS111B Assignment 3 Code"
   ]
  },
  {
   "cell_type": "markdown",
   "metadata": {
    "collapsed": false
   },
   "source": [
    "## Skill-Builder for 8.2"
   ]
  },
  {
   "cell_type": "code",
   "execution_count": 1,
   "metadata": {
    "collapsed": false
   },
   "outputs": [
    {
     "data": {
      "text/plain": [
       "[ 1  0 -2  1]\n",
       "[ 0  1  1  0]\n",
       "[ 0  0  0  0]"
      ]
     },
     "execution_count": 1,
     "metadata": {
     },
     "output_type": "execute_result"
    }
   ],
   "source": [
    "A = Matrix(QQ, [[1,2,0,1],[0,1,1,0],[1,2,0,1]])\n",
    "A.rref()"
   ]
  },
  {
   "cell_type": "code",
   "execution_count": 33,
   "metadata": {
    "collapsed": false
   },
   "outputs": [
    {
     "data": {
      "text/plain": [
       "[ 1  0  0  0]\n",
       "[ 1  0  0  0]\n",
       "[ 0  0  1  0]\n",
       "[ 0  0 -1  0]"
      ]
     },
     "execution_count": 33,
     "metadata": {
     },
     "output_type": "execute_result"
    }
   ],
   "source": [
    "# Part (d)\n",
    "A.transpose()"
   ]
  },
  {
   "cell_type": "code",
   "execution_count": 30,
   "metadata": {
    "collapsed": false
   },
   "outputs": [
    {
     "data": {
      "text/plain": [
       "[1 0 0 0]\n",
       "[0 0 1 0]\n",
       "[0 0 0 0]\n",
       "[0 0 0 0]"
      ]
     },
     "execution_count": 30,
     "metadata": {
     },
     "output_type": "execute_result"
    }
   ],
   "source": [
    "# For row space of A\n",
    "A.transpose().rref()"
   ]
  },
  {
   "cell_type": "code",
   "execution_count": 35,
   "metadata": {
    "collapsed": false
   },
   "outputs": [
    {
     "data": {
      "text/plain": [
       "Vector space of degree 4 and dimension 2 over Rational Field\n",
       "Basis matrix:\n",
       "[0 1 0 0]\n",
       "[0 0 0 1]"
      ]
     },
     "execution_count": 35,
     "metadata": {
     },
     "output_type": "execute_result"
    }
   ],
   "source": [
    "# Null space of A\n",
    "kernel(A)"
   ]
  },
  {
   "cell_type": "code",
   "execution_count": 36,
   "metadata": {
    "collapsed": false
   },
   "outputs": [
    {
     "data": {
      "text/plain": [
       "Vector space of degree 4 and dimension 2 over Rational Field\n",
       "Basis matrix:\n",
       "[ 1 -1  0  0]\n",
       "[ 0  0  1  1]"
      ]
     },
     "execution_count": 36,
     "metadata": {
     },
     "output_type": "execute_result"
    }
   ],
   "source": [
    "# Left-Null Space of A\n",
    "kernel(A.transpose())"
   ]
  },
  {
   "cell_type": "code",
   "execution_count": 34,
   "metadata": {
    "collapsed": false
   },
   "outputs": [
    {
     "data": {
      "text/plain": [
       "[ 1  0  0  0]\n",
       "[ 1  0  0  0]\n",
       "[ 0  1  0  0]\n",
       "[ 0 -1  0  0]"
      ]
     },
     "execution_count": 34,
     "metadata": {
     },
     "output_type": "execute_result"
    }
   ],
   "source": [
    "# Matrix U's transpose\n",
    "\n",
    "A.rref().transpose()"
   ]
  },
  {
   "cell_type": "code",
   "execution_count": 31,
   "metadata": {
    "collapsed": false
   },
   "outputs": [
    {
     "data": {
      "text/plain": [
       "[1 0 0 0]\n",
       "[0 1 0 0]\n",
       "[0 0 0 0]\n",
       "[0 0 0 0]"
      ]
     },
     "execution_count": 31,
     "metadata": {
     },
     "output_type": "execute_result"
    }
   ],
   "source": [
    "# Row space of U\n",
    "A.rref().transpose().rref()"
   ]
  },
  {
   "cell_type": "code",
   "execution_count": 37,
   "metadata": {
    "collapsed": false
   },
   "outputs": [
    {
     "data": {
      "text/plain": [
       "Vector space of degree 4 and dimension 2 over Rational Field\n",
       "Basis matrix:\n",
       "[0 0 1 0]\n",
       "[0 0 0 1]"
      ]
     },
     "execution_count": 37,
     "metadata": {
     },
     "output_type": "execute_result"
    }
   ],
   "source": [
    "# Null space of U\n",
    "kernel(A.rref())"
   ]
  },
  {
   "cell_type": "code",
   "execution_count": 38,
   "metadata": {
    "collapsed": false
   },
   "outputs": [
    {
     "data": {
      "text/plain": [
       "Vector space of degree 4 and dimension 2 over Rational Field\n",
       "Basis matrix:\n",
       "[ 1 -1  0  0]\n",
       "[ 0  0  1  1]"
      ]
     },
     "execution_count": 38,
     "metadata": {
     },
     "output_type": "execute_result"
    }
   ],
   "source": [
    "# Left Null space of U\n",
    "kernel(A.rref().transpose())"
   ]
  },
  {
   "cell_type": "markdown",
   "metadata": {
    "collapsed": false
   },
   "source": [
    "## Skill-Builder for 9.1 and 9.2"
   ]
  },
  {
   "cell_type": "code",
   "execution_count": 2,
   "metadata": {
    "collapsed": false
   },
   "outputs": [
   ],
   "source": [
    "graph = Matrix(QQ, [[-1, 1, 0, 0], [-1, 0, 1, 0], [0, 1, 0, -1], [0, 0, -1, 1]])"
   ]
  },
  {
   "cell_type": "code",
   "execution_count": 3,
   "metadata": {
    "collapsed": false
   },
   "outputs": [
    {
     "data": {
      "text/plain": [
       "Vector space of degree 4 and dimension 1 over Rational Field\n",
       "User basis matrix:\n",
       "[-1  1  1  1]"
      ]
     },
     "execution_count": 3,
     "metadata": {
     },
     "output_type": "execute_result"
    }
   ],
   "source": [
    "graph.left_kernel(basis= 'pivot')"
   ]
  },
  {
   "cell_type": "code",
   "execution_count": 4,
   "metadata": {
    "collapsed": false
   },
   "outputs": [
    {
     "data": {
      "text/plain": [
       "Vector space of degree 4 and dimension 1 over Rational Field\n",
       "User basis matrix:\n",
       "[0 0 1 1]"
      ]
     },
     "execution_count": 4,
     "metadata": {
     },
     "output_type": "execute_result"
    }
   ],
   "source": [
    "graph2 = Matrix(QQ, [[1, -1, 0, 0], [0, 1, -1, 0], [0, 0, 1, -1], [0, 0, -1, 1]])\n",
    "graph2.left_kernel(basis= 'pivot')"
   ]
  },
  {
   "cell_type": "code",
   "execution_count": 5,
   "metadata": {
    "collapsed": false
   },
   "outputs": [
    {
     "data": {
      "text/plain": [
       "Vector space of degree 4 and dimension 1 over Rational Field\n",
       "User basis matrix:\n",
       "[0 0 0 1]"
      ]
     },
     "execution_count": 5,
     "metadata": {
     },
     "output_type": "execute_result"
    }
   ],
   "source": [
    "graph3 = Matrix(QQ, [[1, 0, 0, -1], [0, 1, 0, -1], [0, 0, 1, -1], [0, 0, 0, 0]])\n",
    "graph3.left_kernel(basis= 'pivot')"
   ]
  },
  {
   "cell_type": "code",
   "execution_count": 6,
   "metadata": {
    "collapsed": false
   },
   "outputs": [
    {
     "data": {
      "text/plain": [
       "[ 1  0  0 -1]\n",
       "[ 0  1  0 -1]\n",
       "[ 0  0  1 -1]\n",
       "[ 0  0  0  0]"
      ]
     },
     "execution_count": 6,
     "metadata": {
     },
     "output_type": "execute_result"
    }
   ],
   "source": [
    "graph.rref()"
   ]
  },
  {
   "cell_type": "code",
   "execution_count": 7,
   "metadata": {
    "collapsed": false
   },
   "outputs": [
    {
     "data": {
      "text/plain": [
       "[ 1  0  0  1]\n",
       "[ 0  1  0 -1]\n",
       "[ 0  0  1 -1]\n",
       "[ 0  0  0  0]"
      ]
     },
     "execution_count": 7,
     "metadata": {
     },
     "output_type": "execute_result"
    }
   ],
   "source": [
    "# Question 2, part 4\n",
    "graph.transpose().rref()"
   ]
  },
  {
   "cell_type": "code",
   "execution_count": 8,
   "metadata": {
    "collapsed": false
   },
   "outputs": [
   ],
   "source": [
    "row_space = Matrix(QQ, [[-1,1,0,0] , [-1,0,1,0] , [0,1,0,-1], [0,0,0,0]])"
   ]
  },
  {
   "cell_type": "code",
   "execution_count": 9,
   "metadata": {
    "collapsed": false
   },
   "outputs": [
    {
     "data": {
      "text/plain": [
       "[ 1  0  0 -1]\n",
       "[ 0  1  0 -1]\n",
       "[ 0  0  1 -1]\n",
       "[ 0  0  0  0]"
      ]
     },
     "execution_count": 9,
     "metadata": {
     },
     "output_type": "execute_result"
    }
   ],
   "source": [
    "row_space.rref()"
   ]
  },
  {
   "cell_type": "markdown",
   "metadata": {
    "collapsed": false
   },
   "source": [
    "## Skill Builder for 10.1 and 10.2"
   ]
  },
  {
   "cell_type": "code",
   "execution_count": 10,
   "metadata": {
    "collapsed": false,
    "scrolled": true
   },
   "outputs": [
    {
     "data": {
      "image/png": "[encoded data removed]",
      "text/plain": [
       "Graphics object consisting of 1 graphics primitive"
      ]
     },
     "execution_count": 10,
     "metadata": {
     },
     "output_type": "execute_result"
    }
   ],
   "source": [
    "polygon2d([(0,0),(1,3),(4,10),(3,7)],aspect_ratio=0.25)"
   ]
  },
  {
   "cell_type": "code",
   "execution_count": 1,
   "metadata": {
    "collapsed": false
   },
   "outputs": [
   ],
   "source": [
    "def transform(x,y):\n",
    "    return (x+3*y, 3*x + 7*y)"
   ]
  },
  {
   "cell_type": "code",
   "execution_count": 4,
   "metadata": {
    "collapsed": false
   },
   "outputs": [
   ],
   "source": [
    "import numpy as np\n",
    "\n",
    "all_x = np.linspace(0,1,101)\n",
    "all_y = np.linspace(0,1,101)\n",
    "\n",
    "orig_x = []\n",
    "orig_y = []\n",
    "\n",
    "out_x = []\n",
    "out_y = []\n",
    "\n",
    "for x in all_x:\n",
    "    for y in all_y:\n",
    "        orig_x.append(x)\n",
    "        orig_y.append(y)\n",
    "        new_x, new_y = transform(x,y)\n",
    "        out_x.append(new_x)\n",
    "        out_y.append(new_y)"
   ]
  },
  {
   "cell_type": "code",
   "execution_count": 12,
   "metadata": {
    "collapsed": false
   },
   "outputs": [
    {
     "data": {
      "image/png": "[encoded data removed]",
      "text/plain": [
       "<Figure size 288x720 with 1 Axes>"
      ]
     },
     "execution_count": 12,
     "metadata": {
     },
     "output_type": "execute_result"
    }
   ],
   "source": [
    "import matplotlib.pyplot as plt\n",
    "plt.figure(figsize=(4,10))\n",
    "plt.scatter(orig_x, orig_y, color='red', label='Original Region')\n",
    "plt.scatter(out_x, out_y, label ='New Region')\n",
    "plt.legend()\n",
    "plt.show()"
   ]
  },
  {
   "cell_type": "code",
   "execution_count": 11,
   "metadata": {
    "collapsed": false
   },
   "outputs": [
    {
     "data": {
      "text/plain": [
       "[1 0 0]\n",
       "[0 1 0]\n",
       "[0 0 1]"
      ]
     },
     "execution_count": 11,
     "metadata": {
     },
     "output_type": "execute_result"
    }
   ],
   "source": [
    "# Question 2.c.i\n",
    "vec = Matrix(QQ, [[1,0,-1],[0,2,3],[-1,3,0]])\n",
    "vec.rref()"
   ]
  },
  {
   "cell_type": "code",
   "execution_count": 12,
   "metadata": {
    "collapsed": false
   },
   "outputs": [
    {
     "data": {
      "text/plain": [
       "[ 1  0 -1]\n",
       "[ 0  2  3]\n",
       "[-1  3  0]"
      ]
     },
     "execution_count": 12,
     "metadata": {
     },
     "output_type": "execute_result"
    }
   ],
   "source": [
    "vec"
   ]
  },
  {
   "cell_type": "code",
   "execution_count": 13,
   "metadata": {
    "collapsed": false
   },
   "outputs": [
    {
     "data": {
      "text/plain": [
       "[ 9/11  3/11 -2/11]\n",
       "[ 3/11  1/11  3/11]\n",
       "[-2/11  3/11 -2/11]"
      ]
     },
     "execution_count": 13,
     "metadata": {
     },
     "output_type": "execute_result"
    }
   ],
   "source": [
    "vec.inverse()"
   ]
  },
  {
   "cell_type": "code",
   "execution_count": 14,
   "metadata": {
    "collapsed": false
   },
   "outputs": [
   ],
   "source": [
    "# Part c.ii\n",
    "def T(vector):\n",
    "    x,y,z = vector\n",
    "    return (x + 2*y + 3*z, 3*x - 2*y + z, 2*x - 4*y - 2*z)"
   ]
  },
  {
   "cell_type": "code",
   "execution_count": 15,
   "metadata": {
    "collapsed": false
   },
   "outputs": [
    {
     "name": "stdout",
     "output_type": "stream",
     "text": [
      "T(1, 0, -1) =(-2, 2, 4)\n",
      "T(0, 2, 3) =(13, -1, -14)\n",
      "T(-1, 3, 0) =(5, -9, -14)\n"
     ]
    }
   ],
   "source": [
    "for i in vec.columns():\n",
    "    print('T{} ='.format(i) +  str(T(i)))"
   ]
  },
  {
   "cell_type": "code",
   "execution_count": 16,
   "metadata": {
    "collapsed": false
   },
   "outputs": [
    {
     "name": "stdout",
     "output_type": "stream",
     "text": [
      "P(T(1, 0, -1)) :(-20/11, 8/11, 2/11)\n",
      "P(T(0, 2, 3)) :(142/11, -4/11, -1/11)\n",
      "P(T(-1, 3, 0)) :(46/11, -36/11, -9/11)\n"
     ]
    }
   ],
   "source": [
    "for i in vec.columns():\n",
    "    print('P(T{}) :'.format(i) + str(vec.inverse()*vector(T(i))))"
   ]
  },
  {
   "cell_type": "code",
   "execution_count": 17,
   "metadata": {
    "collapsed": false
   },
   "outputs": [
   ],
   "source": [
    "A = Matrix(QQ, [[1, 2, 3], [3, -2, 1], [2,-4,-2]])"
   ]
  },
  {
   "cell_type": "code",
   "execution_count": 18,
   "metadata": {
    "collapsed": false
   },
   "outputs": [
    {
     "data": {
      "text/plain": [
       "[-20/11 142/11  46/11]\n",
       "[  8/11  -4/11 -36/11]\n",
       "[  2/11  -1/11  -9/11]"
      ]
     },
     "execution_count": 18,
     "metadata": {
     },
     "output_type": "execute_result"
    }
   ],
   "source": [
    "# Part c.iv\n",
    "vec.inverse()*A*vec"
   ]
  },
  {
   "cell_type": "markdown",
   "metadata": {
    "collapsed": false
   },
   "source": [
    "## Skill-Builder for 11.1"
   ]
  },
  {
   "cell_type": "code",
   "execution_count": 19,
   "metadata": {
    "collapsed": false
   },
   "outputs": [
   ],
   "source": [
    "A = Matrix(QQ, [[1, 1, 0 , 0], [0, 0, 0, 0], [0, 0, 1, -1], [0, 0, 0 , 0]])"
   ]
  },
  {
   "cell_type": "code",
   "execution_count": 20,
   "metadata": {
    "collapsed": false
   },
   "outputs": [
    {
     "data": {
      "text/plain": [
       "[ 1  1  0  0]\n",
       "[ 0  0  1 -1]\n",
       "[ 0  0  0  0]\n",
       "[ 0  0  0  0]"
      ]
     },
     "execution_count": 20,
     "metadata": {
     },
     "output_type": "execute_result"
    }
   ],
   "source": [
    "# Part 2\n",
    "A.rref()"
   ]
  },
  {
   "cell_type": "markdown",
   "metadata": {
    "collapsed": false
   },
   "source": [
    "## Deepdive"
   ]
  },
  {
   "cell_type": "code",
   "execution_count": 21,
   "metadata": {
    "collapsed": false
   },
   "outputs": [
   ],
   "source": [
    "incidence = Matrix(QQ, [[-1, 1, 0, 0, 0, 0], [0, -1, 1, 0, 0, 0], [0, -1, 0, 0, 1, 0], [0, 0, 1, -1, 0, 0], [0, 0, 0, -1, 1, 0], \n",
    "[0, 0, 0, 0, -1, 1], [1, 0, 0, 0, 0, -1]])"
   ]
  },
  {
   "cell_type": "code",
   "execution_count": 22,
   "metadata": {
    "collapsed": false
   },
   "outputs": [
    {
     "data": {
      "text/plain": [
       "[ 1  0  0  0  0 -1]\n",
       "[ 0  1  0  0  0 -1]\n",
       "[ 0  0  1  0  0 -1]\n",
       "[ 0  0  0  1  0 -1]\n",
       "[ 0  0  0  0  1 -1]\n",
       "[ 0  0  0  0  0  0]\n",
       "[ 0  0  0  0  0  0]"
      ]
     },
     "execution_count": 22,
     "metadata": {
     },
     "output_type": "execute_result"
    }
   ],
   "source": [
    "# Part (b)\n",
    "# col(A)\n",
    "incidence.rref()"
   ]
  },
  {
   "cell_type": "code",
   "execution_count": 23,
   "metadata": {
    "collapsed": false
   },
   "outputs": [
    {
     "data": {
      "text/plain": [
       "[ 1  0  0  0  0  0 -1]\n",
       "[ 0  1  0  0 -1  0  0]\n",
       "[ 0  0  1  0  1  0 -1]\n",
       "[ 0  0  0  1  1  0  0]\n",
       "[ 0  0  0  0  0  1 -1]\n",
       "[ 0  0  0  0  0  0  0]"
      ]
     },
     "execution_count": 23,
     "metadata": {
     },
     "output_type": "execute_result"
    }
   ],
   "source": [
    "#row(A)\n",
    "\n",
    "incidence.transpose().rref()"
   ]
  },
  {
   "cell_type": "code",
   "execution_count": 24,
   "metadata": {
    "collapsed": false
   },
   "outputs": [
    {
     "data": {
      "text/plain": [
       "Vector space of degree 7 and dimension 2 over Rational Field\n",
       "Basis matrix:\n",
       "[ 1  0  1  0  0  1  1]\n",
       "[ 0  1 -1 -1  1  0  0]"
      ]
     },
     "execution_count": 24,
     "metadata": {
     },
     "output_type": "execute_result"
    }
   ],
   "source": [
    "kernel(incidence)"
   ]
  },
  {
   "cell_type": "code",
   "execution_count": 25,
   "metadata": {
    "collapsed": false
   },
   "outputs": [
    {
     "data": {
      "text/plain": [
       "Vector space of degree 6 and dimension 1 over Rational Field\n",
       "Basis matrix:\n",
       "[1 1 1 1 1 1]"
      ]
     },
     "execution_count": 25,
     "metadata": {
     },
     "output_type": "execute_result"
    }
   ],
   "source": [
    "kernel(incidence.transpose())"
   ]
  },
  {
   "cell_type": "code",
   "execution_count": 26,
   "metadata": {
    "collapsed": false
   },
   "outputs": [
   ],
   "source": [
    "# Part (d)\n",
    "y1, y2, y3, y4, y5, y6, y7 = var('y1, y2, y3, y4, y5, y6, y7')"
   ]
  },
  {
   "cell_type": "code",
   "execution_count": 27,
   "metadata": {
    "collapsed": false
   },
   "outputs": [
   ],
   "source": [
    "for i in [y1, y2, y3, y4, y5, y6, y7]:\n",
    "    assume(i>0)"
   ]
  },
  {
   "cell_type": "code",
   "execution_count": 28,
   "metadata": {
    "collapsed": false
   },
   "outputs": [
   ],
   "source": [
    "solutions = solve([y7-y1==200, y1-y2-y5==-300,y2+y3 ==400,-y3-y4==-400,y4+y5-y6==350,y6-y7==-250],y1, y2, y3, y4, y5, y6, y7)"
   ]
  },
  {
   "cell_type": "code",
   "execution_count": 29,
   "metadata": {
    "collapsed": false
   },
   "outputs": [
    {
     "data": {
      "text/html": [
       "<html><script type=\"math/tex; mode=display\">\\newcommand{\\Bold}[1]{\\mathbf{#1}}y_{1} = r_{1} - 200</script></html>"
      ],
      "text/plain": [
       "y1 == r1 - 200"
      ]
     },
     "execution_count": 29,
     "metadata": {
     },
     "output_type": "execute_result"
    },
    {
     "data": {
      "text/html": [
       "<html><script type=\"math/tex; mode=display\">\\newcommand{\\Bold}[1]{\\mathbf{#1}}y_{2} = r_{2}</script></html>"
      ],
      "text/plain": [
       "y2 == r2"
      ]
     },
     "execution_count": 29,
     "metadata": {
     },
     "output_type": "execute_result"
    },
    {
     "data": {
      "text/html": [
       "<html><script type=\"math/tex; mode=display\">\\newcommand{\\Bold}[1]{\\mathbf{#1}}y_{3} = -r_{2} + 400</script></html>"
      ],
      "text/plain": [
       "y3 == -r2 + 400"
      ]
     },
     "execution_count": 29,
     "metadata": {
     },
     "output_type": "execute_result"
    },
    {
     "data": {
      "text/html": [
       "<html><script type=\"math/tex; mode=display\">\\newcommand{\\Bold}[1]{\\mathbf{#1}}y_{4} = r_{2}</script></html>"
      ],
      "text/plain": [
       "y4 == r2"
      ]
     },
     "execution_count": 29,
     "metadata": {
     },
     "output_type": "execute_result"
    },
    {
     "data": {
      "text/html": [
       "<html><script type=\"math/tex; mode=display\">\\newcommand{\\Bold}[1]{\\mathbf{#1}}y_{5} = r_{1} - r_{2} + 100</script></html>"
      ],
      "text/plain": [
       "y5 == r1 - r2 + 100"
      ]
     },
     "execution_count": 29,
     "metadata": {
     },
     "output_type": "execute_result"
    },
    {
     "data": {
      "text/html": [
       "<html><script type=\"math/tex; mode=display\">\\newcommand{\\Bold}[1]{\\mathbf{#1}}y_{6} = r_{1} - 250</script></html>"
      ],
      "text/plain": [
       "y6 == r1 - 250"
      ]
     },
     "execution_count": 29,
     "metadata": {
     },
     "output_type": "execute_result"
    },
    {
     "data": {
      "text/html": [
       "<html><script type=\"math/tex; mode=display\">\\newcommand{\\Bold}[1]{\\mathbf{#1}}y_{7} = r_{1}</script></html>"
      ],
      "text/plain": [
       "y7 == r1"
      ]
     },
     "execution_count": 29,
     "metadata": {
     },
     "output_type": "execute_result"
    }
   ],
   "source": [
    "for i in solutions[0]:\n",
    "    show(i)"
   ]
  }
 ],
 "metadata": {
  "kernelspec": {
   "display_name": "SageMath (latest)",
   "language": "sagemath",
   "metadata": {
    "cocalc": {
     "description": "Open-source mathematical software system",
     "priority": 10,
     "url": "https://www.sagemath.org/"
    }
   },
   "name": "sagemath"
  },
  "language_info": {
   "codemirror_mode": {
    "name": "ipython",
    "version": 2
   },
   "file_extension": ".py",
   "mimetype": "text/x-python",
   "name": "python",
   "nbconvert_exporter": "python",
   "pygments_lexer": "ipython2",
   "version": "2.7.15"
  }
 },
 "nbformat": 4,
 "nbformat_minor": 4
}